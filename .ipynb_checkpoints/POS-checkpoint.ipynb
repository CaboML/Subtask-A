{
 "cells": [
  {
   "cell_type": "markdown",
   "metadata": {},
   "source": [
    "# Model with POS tagging embeddind"
   ]
  },
  {
   "cell_type": "code",
   "execution_count": 1,
   "metadata": {},
   "outputs": [],
   "source": [
    "import nltk"
   ]
  },
  {
   "cell_type": "code",
   "execution_count": null,
   "metadata": {},
   "outputs": [],
   "source": [
    "print(\"test\")"
   ]
  },
  {
   "cell_type": "code",
   "execution_count": 2,
   "metadata": {},
   "outputs": [
    {
     "name": "stdout",
     "output_type": "stream",
     "text": [
      "Tokens: ['Can', 'you', 'please', 'buy', 'me', 'an', 'Arizona', 'Ice', 'Tea', '?', 'It', \"'s\", '$', '0.99', '.']\n"
     ]
    }
   ],
   "source": [
    "tokens = nltk.word_tokenize(\"Can you please buy me an Arizona Ice Tea? It's $0.99.\")\n",
    "print(\"Tokens:\",tokens)"
   ]
  },
  {
   "cell_type": "markdown",
   "metadata": {},
   "source": [
    "- CC coordinating conjunction\n",
    "- CD cardinal digit\n",
    "- DT determiner\n",
    "- EX existential there (like: “there is” … think of it like “there exists”)\n",
    "- FW foreign word\n",
    "- IN preposition/subordinating conjunction\n",
    "- JJ adjective ‘big’\n",
    "- JJR adjective, comparative ‘bigger’\n",
    "- JJS adjective, superlative ‘biggest’\n",
    "- LS list marker 1)\n",
    "- MD modal could, will\n",
    "- NN noun, singular ‘desk’\n",
    "- NNS noun plural ‘desks’\n",
    "- NNP proper noun, singular ‘Harrison’\n",
    "- NNPS proper noun, plural ‘Americans’\n",
    "- PDT predeterminer ‘all the kids’\n",
    "- POS possessive ending parent’s\n",
    "- PRP personal pronoun I, he, she\n",
    "- PRP possessive pronoun my, his, hers\n",
    "- RB adverb very, silently,\n",
    "- RBR adverb, comparative better\n",
    "- RBS adverb, superlative best\n",
    "- RP particle give up\n",
    "- TO, to go ‘to’ the store.\n",
    "- UH interjection, errrrrrrrm\n",
    "- VB verb, base form take\n",
    "- VBD verb, past tense took\n",
    "- VBG verb, gerund/present participle taking\n",
    "- VBN verb, past participle taken\n",
    "- VBP verb, sing. present, non-3d take\n",
    "- VBZ verb, 3rd person sing. present takes\n",
    "- WDT wh-determiner which\n",
    "- WP wh-pronoun who, what\n",
    "- WP possessive wh-pronoun whose\n",
    "- WRB wh-abverb where, when"
   ]
  },
  {
   "cell_type": "code",
   "execution_count": 4,
   "metadata": {},
   "outputs": [
    {
     "name": "stdout",
     "output_type": "stream",
     "text": [
      "POS [('Can', 'MD'), ('you', 'PRP'), ('please', 'VB'), ('buy', 'VB'), ('me', 'PRP'), ('an', 'DT'), ('Arizona', 'NNP'), ('Ice', 'NNP'), ('Tea', 'NNP'), ('?', '.'), ('It', 'PRP'), (\"'s\", 'VBZ'), ('$', '$'), ('0.99', 'CD'), ('.', '.')]\n"
     ]
    }
   ],
   "source": [
    "# POS\n",
    "POS = nltk.pos_tag(tokens=tokens)\n",
    "print(\"POS\", nltk.pos_tag(tokens=tokens))"
   ]
  },
  {
   "cell_type": "code",
   "execution_count": 22,
   "metadata": {},
   "outputs": [],
   "source": [
    "POS\n",
    "POS_cat = []\n",
    "for pair in POS:\n",
    "    POS_cat.append((pair[0] + \"/\" + pair[1]))"
   ]
  },
  {
   "cell_type": "code",
   "execution_count": 23,
   "metadata": {},
   "outputs": [
    {
     "data": {
      "text/plain": [
       "['Can/MD',\n",
       " 'you/PRP',\n",
       " 'please/VB',\n",
       " 'buy/VB',\n",
       " 'me/PRP',\n",
       " 'an/DT',\n",
       " 'Arizona/NNP',\n",
       " 'Ice/NNP',\n",
       " 'Tea/NNP',\n",
       " '?/.',\n",
       " 'It/PRP',\n",
       " \"'s/VBZ\",\n",
       " '$/$',\n",
       " '0.99/CD',\n",
       " './.']"
      ]
     },
     "execution_count": 23,
     "metadata": {},
     "output_type": "execute_result"
    }
   ],
   "source": [
    "POS_cat"
   ]
  },
  {
   "cell_type": "code",
   "execution_count": 27,
   "metadata": {},
   "outputs": [
    {
     "data": {
      "text/plain": [
       "\"Can/MD you/PRP please/VB buy/VB me/PRP an/DT Arizona/NNP Ice/NNP Tea/NNP ?/. It/PRP 's/VBZ $/$ 0.99/CD ./.\""
      ]
     },
     "execution_count": 27,
     "metadata": {},
     "output_type": "execute_result"
    }
   ],
   "source": [
    "sentence = \" \".join(POS_cat)\n",
    "sentence"
   ]
  },
  {
   "cell_type": "code",
   "execution_count": 53,
   "metadata": {},
   "outputs": [
    {
     "ename": "SyntaxError",
     "evalue": "EOL while scanning string literal (<ipython-input-53-23759f69e3ad>, line 2)",
     "output_type": "error",
     "traceback": [
      "\u001b[0;36m  File \u001b[0;32m\"<ipython-input-53-23759f69e3ad>\"\u001b[0;36m, line \u001b[0;32m2\u001b[0m\n\u001b[0;31m    re.sub(\"[^a-zA-Z\\/]\",\" \",\"\"\"Can/MD\"\"\"\")\u001b[0m\n\u001b[0m                                           ^\u001b[0m\n\u001b[0;31mSyntaxError\u001b[0m\u001b[0;31m:\u001b[0m EOL while scanning string literal\n"
     ]
    }
   ],
   "source": [
    "import re\n",
    "re.sub(\"[^a-zA-Z\\/]\",\" \",\"\"\"Can/MD\"\")"
   ]
  },
  {
   "cell_type": "code",
   "execution_count": 36,
   "metadata": {},
   "outputs": [],
   "source": [
    "sentence = ['please', 'enable', 'removing', 'language', 'code', 'from', 'the', 'dev', 'center', 'language', 'history', 'for', 'example', 'if', 'you', 'ever', 'selected', 'ru', 'and', 'ru', 'ru', 'laguages', 'and', 'you', 'published', 'this', 'xap', 'to', 'the', 'store', 'then', 'it', 'causes', 'tile', 'localization', 'to', 'show', 'the', 'en', 'us', 'default', 'tile', 'localization', 'which', 'is', 'bad']"
   ]
  },
  {
   "cell_type": "code",
   "execution_count": 55,
   "metadata": {
    "scrolled": true
   },
   "outputs": [
    {
     "data": {
      "text/plain": [
       "[('please', 'NN'),\n",
       " ('enable', 'JJ'),\n",
       " ('removing', 'VBG'),\n",
       " ('language', 'NN'),\n",
       " ('code', 'NN'),\n",
       " ('from', 'IN'),\n",
       " ('the', 'DT'),\n",
       " ('dev', 'NN'),\n",
       " ('center', 'NN'),\n",
       " ('language', 'NN'),\n",
       " ('history', 'NN'),\n",
       " ('for', 'IN'),\n",
       " ('example', 'NN'),\n",
       " ('if', 'IN'),\n",
       " ('you', 'PRP'),\n",
       " ('ever', 'RB'),\n",
       " ('selected', 'VBN'),\n",
       " ('ru', 'NN'),\n",
       " ('and', 'CC'),\n",
       " ('ru', 'NN'),\n",
       " ('ru', 'NN'),\n",
       " ('laguages', 'NNS'),\n",
       " ('and', 'CC'),\n",
       " ('you', 'PRP'),\n",
       " ('published', 'VBP'),\n",
       " ('this', 'DT'),\n",
       " ('xap', 'NN'),\n",
       " ('to', 'TO'),\n",
       " ('the', 'DT'),\n",
       " ('store', 'NN'),\n",
       " ('then', 'RB'),\n",
       " ('it', 'PRP'),\n",
       " ('causes', 'VBZ'),\n",
       " ('tile', 'JJ'),\n",
       " ('localization', 'NN'),\n",
       " ('to', 'TO'),\n",
       " ('show', 'VB'),\n",
       " ('the', 'DT'),\n",
       " ('en', 'FW'),\n",
       " ('us', 'PRP'),\n",
       " ('default', 'VBP'),\n",
       " ('tile', 'JJ'),\n",
       " ('localization', 'NN'),\n",
       " ('which', 'WDT'),\n",
       " ('is', 'VBZ'),\n",
       " ('bad', 'JJ')]"
      ]
     },
     "execution_count": 55,
     "metadata": {},
     "output_type": "execute_result"
    }
   ],
   "source": [
    "POS = nltk.pos_tag(tokens=sentence)\n",
    "POS"
   ]
  },
  {
   "cell_type": "code",
   "execution_count": 41,
   "metadata": {},
   "outputs": [
    {
     "data": {
      "text/plain": [
       "[('O', 'NNP'), ('L', 'NNP'), ('A', 'NNP')]"
      ]
     },
     "execution_count": 41,
     "metadata": {},
     "output_type": "execute_result"
    }
   ],
   "source": []
  },
  {
   "cell_type": "code",
   "execution_count": 39,
   "metadata": {},
   "outputs": [],
   "source": [
    "POS_cat = []\n",
    "for pair in POS:\n",
    "    POS_cat.append((pair[0] + \"/\" + pair[1]))"
   ]
  },
  {
   "cell_type": "code",
   "execution_count": 40,
   "metadata": {},
   "outputs": [
    {
     "data": {
      "text/plain": [
       "['please/NN',\n",
       " 'enable/JJ',\n",
       " 'removing/VBG',\n",
       " 'language/NN',\n",
       " 'code/NN',\n",
       " 'from/IN',\n",
       " 'the/DT',\n",
       " 'dev/NN',\n",
       " 'center/NN',\n",
       " 'language/NN',\n",
       " 'history/NN',\n",
       " 'for/IN',\n",
       " 'example/NN',\n",
       " 'if/IN',\n",
       " 'you/PRP',\n",
       " 'ever/RB',\n",
       " 'selected/VBN',\n",
       " 'ru/NN',\n",
       " 'and/CC',\n",
       " 'ru/NN',\n",
       " 'ru/NN',\n",
       " 'laguages/NNS',\n",
       " 'and/CC',\n",
       " 'you/PRP',\n",
       " 'published/VBP',\n",
       " 'this/DT',\n",
       " 'xap/NN',\n",
       " 'to/TO',\n",
       " 'the/DT',\n",
       " 'store/NN',\n",
       " 'then/RB',\n",
       " 'it/PRP',\n",
       " 'causes/VBZ',\n",
       " 'tile/JJ',\n",
       " 'localization/NN',\n",
       " 'to/TO',\n",
       " 'show/VB',\n",
       " 'the/DT',\n",
       " 'en/FW',\n",
       " 'us/PRP',\n",
       " 'default/VBP',\n",
       " 'tile/JJ',\n",
       " 'localization/NN',\n",
       " 'which/WDT',\n",
       " 'is/VBZ',\n",
       " 'bad/JJ']"
      ]
     },
     "execution_count": 40,
     "metadata": {},
     "output_type": "execute_result"
    }
   ],
   "source": [
    "POS_cat"
   ]
  },
  {
   "cell_type": "code",
   "execution_count": null,
   "metadata": {},
   "outputs": [],
   "source": []
  }
 ],
 "metadata": {
  "kernelspec": {
   "display_name": "Python 3",
   "language": "python",
   "name": "python3"
  },
  "language_info": {
   "codemirror_mode": {
    "name": "ipython",
    "version": 3
   },
   "file_extension": ".py",
   "mimetype": "text/x-python",
   "name": "python",
   "nbconvert_exporter": "python",
   "pygments_lexer": "ipython3",
   "version": "3.6.5"
  }
 },
 "nbformat": 4,
 "nbformat_minor": 2
}

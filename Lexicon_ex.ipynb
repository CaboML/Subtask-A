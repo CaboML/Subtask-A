{
 "cells": [
  {
   "cell_type": "code",
   "execution_count": 109,
   "metadata": {},
   "outputs": [
    {
     "name": "stdout",
     "output_type": "stream",
     "text": [
      "['dog', 'is', 'not', 'smart']\n",
      "[('dog', 'NN'), ('is', 'VBZ'), ('not', 'RB'), ('smart', 'JJ')]\n"
     ]
    }
   ],
   "source": [
    "import nltk\n",
    "from nltk.stem import WordNetLemmatizer\n",
    "wordnet_lemmatizer = WordNetLemmatizer()\n",
    "\n",
    "#from nltk.stem.porter import PorterStemmer\n",
    "#ps = PorterStemmer()\n",
    "sentence = \"dog is not smart\"\n",
    "token = nltk.word_tokenize(sentence)\n",
    "print(token)\n",
    "tagged = nltk.pos_tag(token)\n",
    "print(tagged)"
   ]
  },
  {
   "cell_type": "code",
   "execution_count": 110,
   "metadata": {},
   "outputs": [
    {
     "name": "stdout",
     "output_type": "stream",
     "text": [
      "['dog', 'be', 'not', 'smart']\n"
     ]
    }
   ],
   "source": [
    "review = [wordnet_lemmatizer.lemmatize(word[0],sentiWordDict[word[1]]) for word in tagged ]\n",
    "print(review)"
   ]
  },
  {
   "cell_type": "code",
   "execution_count": 111,
   "metadata": {},
   "outputs": [
    {
     "name": "stdout",
     "output_type": "stream",
     "text": [
      "[('dog', 'NN'), ('be', 'VB'), ('not', 'RB'), ('smart', 'JJ')]\n"
     ]
    }
   ],
   "source": [
    "tagged = nltk.pos_tag(review)\n",
    "print(tagged)"
   ]
  },
  {
   "cell_type": "code",
   "execution_count": null,
   "metadata": {},
   "outputs": [],
   "source": []
  },
  {
   "cell_type": "code",
   "execution_count": null,
   "metadata": {},
   "outputs": [],
   "source": []
  },
  {
   "cell_type": "code",
   "execution_count": 112,
   "metadata": {},
   "outputs": [
    {
     "name": "stdout",
     "output_type": "stream",
     "text": [
      "('dog', 'NN')\n",
      "n\n",
      "<dog.n.01: PosScore=0.0 NegScore=0.0>\n",
      "('be', 'VB')\n",
      "v\n",
      "<be.v.01: PosScore=0.25 NegScore=0.125>\n",
      "('not', 'RB')\n",
      "r\n",
      "<not.r.01: PosScore=0.0 NegScore=0.625>\n",
      "('smart', 'JJ')\n",
      "a\n",
      "<smart.a.01: PosScore=0.5 NegScore=0.0>\n"
     ]
    }
   ],
   "source": [
    "pos_res = 0\n",
    "neg_res = 0\n",
    "for word in tagged:\n",
    "    print(word)\n",
    "    senti_POS = sentiWordDict[word[1]]\n",
    "    print(senti_POS)\n",
    "    res = swn.senti_synset(word[0]+'.'+senti_POS+'.01')\n",
    "    print(res)\n",
    "    pos_res = pos_res + res.pos_score()\n",
    "    neg_res = neg_res + res.neg_score()"
   ]
  },
  {
   "cell_type": "code",
   "execution_count": 113,
   "metadata": {},
   "outputs": [
    {
     "name": "stdout",
     "output_type": "stream",
     "text": [
      "pos: 0.75\n",
      "neg: 0.75\n"
     ]
    }
   ],
   "source": [
    "print(\"pos:\",pos_res)\n",
    "print(\"neg:\",neg_res)"
   ]
  },
  {
   "cell_type": "code",
   "execution_count": 94,
   "metadata": {},
   "outputs": [
    {
     "name": "stdout",
     "output_type": "stream",
     "text": [
      "[nltk_data] Downloading package sentiwordnet to\n",
      "[nltk_data]     /Users/tiagocabo/nltk_data...\n",
      "[nltk_data]   Package sentiwordnet is already up-to-date!\n",
      "0.25 0.125\n"
     ]
    }
   ],
   "source": [
    "nltk.download('sentiwordnet')       \n",
    "from nltk.corpus import sentiwordnet as swn     \n",
    "\n",
    "word = swn.senti_synset('be.v.01')\n",
    "\n",
    "print(word.pos_score(),word.neg_score() )"
   ]
  },
  {
   "cell_type": "code",
   "execution_count": 67,
   "metadata": {},
   "outputs": [
    {
     "data": {
      "text/plain": [
       "'n'"
      ]
     },
     "execution_count": 67,
     "metadata": {},
     "output_type": "execute_result"
    }
   ],
   "source": [
    "sentiWordDict = {\n",
    "\"JJ\":\"a\",\n",
    "\"JJR\":\"a\",\n",
    "\"JJS\":\"a\",\n",
    "\"NN\":\"n\",\n",
    "\"NNS\":\"n\",\n",
    "\"NNP\":\"n\",\n",
    "\"NNPS\":\"n\",\n",
    "\"RB\":\"r\",\n",
    "\"RBR\":\"r\",\n",
    "\"RBS\":\"r\",\n",
    "\"VB\" :\"v\",\n",
    "\"VBD\":\"v\",\n",
    "\"VBG\":\"v\",\n",
    "\"VBN\":\"v\",\n",
    "\"VBP\":\"v\",\n",
    "\"VBZ\":\"v\",\n",
    "\"WRB\":\"r\"}\n",
    "sentiWordDict[\"NN\"]\n"
   ]
  },
  {
   "cell_type": "code",
   "execution_count": 6,
   "metadata": {},
   "outputs": [
    {
     "name": "stdout",
     "output_type": "stream",
     "text": [
      "<breakdown.n.03: PosScore=0.0 NegScore=0.25>\n"
     ]
    }
   ],
   "source": [
    "print(word)"
   ]
  },
  {
   "cell_type": "markdown",
   "metadata": {},
   "source": [
    "n - NOUN \n",
    "v - VERB \n",
    "a - ADJECTIVE \n",
    "s - ADJECTIVE SATELLITE \n",
    "r - ADVERB "
   ]
  }
 ],
 "metadata": {
  "kernelspec": {
   "display_name": "Python 3",
   "language": "python",
   "name": "python3"
  },
  "language_info": {
   "codemirror_mode": {
    "name": "ipython",
    "version": 3
   },
   "file_extension": ".py",
   "mimetype": "text/x-python",
   "name": "python",
   "nbconvert_exporter": "python",
   "pygments_lexer": "ipython3",
   "version": "3.6.5"
  }
 },
 "nbformat": 4,
 "nbformat_minor": 2
}
